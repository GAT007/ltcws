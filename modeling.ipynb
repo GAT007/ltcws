{
 "cells": [
  {
   "cell_type": "code",
   "id": "initial_id",
   "metadata": {
    "collapsed": true,
    "ExecuteTime": {
     "end_time": "2024-10-31T10:42:25.857541Z",
     "start_time": "2024-10-31T10:42:25.842229Z"
    }
   },
   "source": "print(\"Let's fucking go!\")",
   "outputs": [
    {
     "name": "stdout",
     "output_type": "stream",
     "text": [
      "Let's fucking go!\n"
     ]
    }
   ],
   "execution_count": 1
  },
  {
   "metadata": {
    "ExecuteTime": {
     "end_time": "2024-10-31T17:38:54.691112Z",
     "start_time": "2024-10-31T17:38:54.636726Z"
    }
   },
   "cell_type": "code",
   "source": "1+1",
   "id": "add0b3505a19e411",
   "outputs": [
    {
     "data": {
      "text/plain": [
       "2"
      ]
     },
     "execution_count": 2,
     "metadata": {},
     "output_type": "execute_result"
    }
   ],
   "execution_count": 2
  },
  {
   "metadata": {
    "ExecuteTime": {
     "end_time": "2024-10-31T17:53:32.684189Z",
     "start_time": "2024-10-31T17:53:32.671623Z"
    }
   },
   "cell_type": "code",
   "source": "goals_scored = 2",
   "id": "61182c0c9ad04e9d",
   "outputs": [],
   "execution_count": 3
  },
  {
   "metadata": {
    "ExecuteTime": {
     "end_time": "2024-10-31T17:53:42.806459Z",
     "start_time": "2024-10-31T17:53:42.783333Z"
    }
   },
   "cell_type": "code",
   "source": "goals_scored",
   "id": "c8474195212f32e4",
   "outputs": [
    {
     "data": {
      "text/plain": [
       "2"
      ]
     },
     "execution_count": 4,
     "metadata": {},
     "output_type": "execute_result"
    }
   ],
   "execution_count": 4
  },
  {
   "metadata": {
    "ExecuteTime": {
     "end_time": "2024-10-31T17:54:38.951947Z",
     "start_time": "2024-10-31T17:54:38.935223Z"
    }
   },
   "cell_type": "code",
   "source": "3*goals_scored",
   "id": "4538c7363e696d34",
   "outputs": [
    {
     "data": {
      "text/plain": [
       "6"
      ]
     },
     "execution_count": 5,
     "metadata": {},
     "output_type": "execute_result"
    }
   ],
   "execution_count": 5
  },
  {
   "metadata": {
    "ExecuteTime": {
     "end_time": "2024-10-31T17:57:34.737741Z",
     "start_time": "2024-10-31T17:57:34.724088Z"
    }
   },
   "cell_type": "code",
   "source": "goals_scored = goals_scored + 1",
   "id": "6aacb3ef2c2b69d6",
   "outputs": [],
   "execution_count": 6
  },
  {
   "metadata": {
    "ExecuteTime": {
     "end_time": "2024-10-31T17:57:47.270618Z",
     "start_time": "2024-10-31T17:57:47.254322Z"
    }
   },
   "cell_type": "code",
   "source": "goals_scored",
   "id": "a01cea74f2c70343",
   "outputs": [
    {
     "data": {
      "text/plain": [
       "3"
      ]
     },
     "execution_count": 7,
     "metadata": {},
     "output_type": "execute_result"
    }
   ],
   "execution_count": 7
  },
  {
   "metadata": {
    "ExecuteTime": {
     "end_time": "2024-10-31T17:59:09.735202Z",
     "start_time": "2024-10-31T17:59:09.719155Z"
    }
   },
   "cell_type": "code",
   "source": [
    "keeper_saves = 12\n",
    "ball_speed_kmh = 96.5"
   ],
   "id": "15035efa097e740e",
   "outputs": [],
   "execution_count": 8
  },
  {
   "metadata": {
    "ExecuteTime": {
     "end_time": "2024-10-31T18:00:04.461056Z",
     "start_time": "2024-10-31T18:00:04.450011Z"
    }
   },
   "cell_type": "code",
   "source": [
    "starting_fwd = 'Lionel Messi'\n",
    "description = \"It's a goal\""
   ],
   "id": "1302b5a967f7144c",
   "outputs": [],
   "execution_count": 9
  },
  {
   "metadata": {
    "ExecuteTime": {
     "end_time": "2024-10-31T18:06:24.614524Z",
     "start_time": "2024-10-31T18:06:24.603198Z"
    }
   },
   "cell_type": "code",
   "source": [
    "print(type(starting_fwd))\n",
    "print(type(keeper_saves))"
   ],
   "id": "6d048970a795099d",
   "outputs": [
    {
     "name": "stdout",
     "output_type": "stream",
     "text": [
      "<class 'str'>\n",
      "<class 'int'>\n"
     ]
    }
   ],
   "execution_count": 11
  },
  {
   "metadata": {
    "ExecuteTime": {
     "end_time": "2024-10-31T18:08:05.674245Z",
     "start_time": "2024-10-31T18:08:05.661873Z"
    }
   },
   "cell_type": "code",
   "source": [
    "player_description = f'{description} by {starting_fwd}'\n",
    "print(player_description)"
   ],
   "id": "ea96298706556cca",
   "outputs": [
    {
     "name": "stdout",
     "output_type": "stream",
     "text": [
      "It's a goal by Lionel Messi\n"
     ]
    }
   ],
   "execution_count": 12
  },
  {
   "metadata": {
    "ExecuteTime": {
     "end_time": "2024-10-31T18:08:39.335795Z",
     "start_time": "2024-10-31T18:08:39.317359Z"
    }
   },
   "cell_type": "code",
   "source": "'goaaaaaaal'.upper()",
   "id": "ee0b33fbe6e087b4",
   "outputs": [
    {
     "data": {
      "text/plain": [
       "'GOAAAAAAAL'"
      ]
     },
     "execution_count": 13,
     "metadata": {},
     "output_type": "execute_result"
    }
   ],
   "execution_count": 13
  },
  {
   "metadata": {
    "ExecuteTime": {
     "end_time": "2024-11-01T03:25:42.340146Z",
     "start_time": "2024-11-01T03:25:42.317281Z"
    }
   },
   "cell_type": "code",
   "source": "'Cristiano Ronaldo, Manchester United'.replace('Manchester United', 'Real Madrid')",
   "id": "ebd7d3834bfe3a21",
   "outputs": [
    {
     "data": {
      "text/plain": [
       "'Cristiano Ronaldo, Real Madrid'"
      ]
     },
     "execution_count": 1,
     "metadata": {},
     "output_type": "execute_result"
    }
   ],
   "execution_count": 1
  },
  {
   "metadata": {
    "ExecuteTime": {
     "end_time": "2024-11-01T03:29:52.395685Z",
     "start_time": "2024-11-01T03:29:52.382845Z"
    }
   },
   "cell_type": "code",
   "source": [
    "goat = 'lionel messi'\n",
    "'lionel messi'.capitalize()"
   ],
   "id": "a16c4a158deb4e9f",
   "outputs": [
    {
     "data": {
      "text/plain": [
       "'Lionel messi'"
      ]
     },
     "execution_count": 2,
     "metadata": {},
     "output_type": "execute_result"
    }
   ],
   "execution_count": 2
  },
  {
   "metadata": {
    "ExecuteTime": {
     "end_time": "2024-11-01T03:34:40.577406Z",
     "start_time": "2024-11-01T03:34:40.568821Z"
    }
   },
   "cell_type": "code",
   "source": [
    "team1_goals = 2\n",
    "team2_goals = 1"
   ],
   "id": "606e5caf3d694fbb",
   "outputs": [],
   "execution_count": 3
  },
  {
   "metadata": {
    "ExecuteTime": {
     "end_time": "2024-11-01T03:36:37.823960Z",
     "start_time": "2024-11-01T03:36:37.812219Z"
    }
   },
   "cell_type": "code",
   "source": [
    "team1_won = team1_goals > team2_goals\n",
    "team2_won = team1_goals < team2_goals\n",
    "teams_tied = team1_goals == team2_goals\n",
    "teams_did_not_tie = team1_goals != team2_goals\n",
    "print(type(team1_won))"
   ],
   "id": "839f20e0b7bd72d8",
   "outputs": [
    {
     "name": "stdout",
     "output_type": "stream",
     "text": [
      "<class 'bool'>\n"
     ]
    }
   ],
   "execution_count": 4
  },
  {
   "metadata": {
    "ExecuteTime": {
     "end_time": "2024-11-01T03:37:02.498169Z",
     "start_time": "2024-11-01T03:37:02.487483Z"
    }
   },
   "cell_type": "code",
   "source": "teams_did_not_tie",
   "id": "196c308c70c478e7",
   "outputs": [
    {
     "data": {
      "text/plain": [
       "True"
      ]
     },
     "execution_count": 5,
     "metadata": {},
     "output_type": "execute_result"
    }
   ],
   "execution_count": 5
  },
  {
   "metadata": {
    "ExecuteTime": {
     "end_time": "2024-11-01T03:38:31.100595Z",
     "start_time": "2024-11-01T03:38:31.090003Z"
    }
   },
   "cell_type": "code",
   "source": "shootout = (team1_goals > 3) and (team2_goals > 3)",
   "id": "de988b23dd98791",
   "outputs": [],
   "execution_count": 6
  },
  {
   "metadata": {
    "ExecuteTime": {
     "end_time": "2024-11-01T03:40:29.174183Z",
     "start_time": "2024-11-01T03:40:29.160402Z"
    }
   },
   "cell_type": "code",
   "source": [
    "at_least_one_good_team = (team1_goals > 3) or (team2_goals > 3)\n",
    "you_guys_are_bad = not((team1_goals > 1) or (team2_goals > 1))\n",
    "meh = not (shootout or at_least_one_good_team or you_guys_are_bad)\n",
    "meh"
   ],
   "id": "27c2873e8745b130",
   "outputs": [
    {
     "data": {
      "text/plain": [
       "True"
      ]
     },
     "execution_count": 7,
     "metadata": {},
     "output_type": "execute_result"
    }
   ],
   "execution_count": 7
  },
  {
   "metadata": {
    "ExecuteTime": {
     "end_time": "2024-11-01T03:42:02.830031Z",
     "start_time": "2024-11-01T03:42:02.811417Z"
    }
   },
   "cell_type": "code",
   "source": [
    "#Lists\n",
    "roster_list = ['ruben dias', 'gabriel jesus', 'riyad mahrez']\n",
    "roster_list[0]"
   ],
   "id": "3523a64b182f7572",
   "outputs": [
    {
     "data": {
      "text/plain": [
       "'ruben dias'"
      ]
     },
     "execution_count": 8,
     "metadata": {},
     "output_type": "execute_result"
    }
   ],
   "execution_count": 8
  },
  {
   "metadata": {
    "ExecuteTime": {
     "end_time": "2024-11-01T03:43:31.978839Z",
     "start_time": "2024-11-01T03:43:31.967029Z"
    }
   },
   "cell_type": "code",
   "source": [
    "#slice the list\n",
    "roster_list[0:2]"
   ],
   "id": "c6183ba4002c0fe",
   "outputs": [
    {
     "data": {
      "text/plain": [
       "['ruben dias', 'gabriel jesus']"
      ]
     },
     "execution_count": 10,
     "metadata": {},
     "output_type": "execute_result"
    }
   ],
   "execution_count": 10
  },
  {
   "metadata": {
    "ExecuteTime": {
     "end_time": "2024-11-01T03:46:05.319474Z",
     "start_time": "2024-11-01T03:46:05.309580Z"
    }
   },
   "cell_type": "code",
   "source": [
    "#from the end\n",
    "roster_list[-2:]\n",
    "#Lists can hold anything, including other lists\n",
    "#Lists that hold other lists are called nested lists"
   ],
   "id": "48f620385fbef332",
   "outputs": [
    {
     "data": {
      "text/plain": [
       "['gabriel jesus', 'riyad mahrez']"
      ]
     },
     "execution_count": 13,
     "metadata": {},
     "output_type": "execute_result"
    }
   ],
   "execution_count": 13
  },
  {
   "metadata": {
    "ExecuteTime": {
     "end_time": "2024-11-01T03:47:06.369852Z",
     "start_time": "2024-11-01T03:47:06.359268Z"
    }
   },
   "cell_type": "code",
   "source": [
    "#Dicts are dictionaries\n",
    "roster_dict = {'CB':'ruben dias', 'CF':'gabriel jesus', 'RW':'riyad mahrez'}"
   ],
   "id": "7c398a279eb57425",
   "outputs": [],
   "execution_count": 14
  },
  {
   "metadata": {
    "ExecuteTime": {
     "end_time": "2024-11-01T03:47:11.481448Z",
     "start_time": "2024-11-01T03:47:11.466843Z"
    }
   },
   "cell_type": "code",
   "source": "roster_dict",
   "id": "33b2f2f18a09d445",
   "outputs": [
    {
     "data": {
      "text/plain": [
       "{'CB': 'ruben dias', 'CF': 'gabriel jesus', 'RW': 'riyad mahrez'}"
      ]
     },
     "execution_count": 15,
     "metadata": {},
     "output_type": "execute_result"
    }
   ],
   "execution_count": 15
  },
  {
   "metadata": {
    "ExecuteTime": {
     "end_time": "2024-11-01T03:48:04.690447Z",
     "start_time": "2024-11-01T03:48:04.681097Z"
    }
   },
   "cell_type": "code",
   "source": [
    "#Access items like this\n",
    "roster_dict['CB']"
   ],
   "id": "ded3ab9ad03e9d6",
   "outputs": [
    {
     "data": {
      "text/plain": [
       "'ruben dias'"
      ]
     },
     "execution_count": 17,
     "metadata": {},
     "output_type": "execute_result"
    }
   ],
   "execution_count": 17
  },
  {
   "metadata": {
    "ExecuteTime": {
     "end_time": "2024-11-01T03:54:30.460039Z",
     "start_time": "2024-11-01T03:54:30.454208Z"
    }
   },
   "cell_type": "code",
   "source": [
    "#Add new things to the dict\n",
    "roster_dict['LW'] = 'Raheem Sterling'"
   ],
   "id": "e73596b6b7c796c2",
   "outputs": [],
   "execution_count": 18
  },
  {
   "metadata": {
    "ExecuteTime": {
     "end_time": "2024-11-01T03:56:03.946038Z",
     "start_time": "2024-11-01T03:56:03.928805Z"
    }
   },
   "cell_type": "code",
   "source": " roster_dict",
   "id": "329b1d680acbd86b",
   "outputs": [
    {
     "data": {
      "text/plain": [
       "{'CB': 'ruben dias',\n",
       " 'CF': 'gabriel jesus',\n",
       " 'RW': 'riyad mahrez',\n",
       " 'LW': 'Raheem Sterling'}"
      ]
     },
     "execution_count": 19,
     "metadata": {},
     "output_type": "execute_result"
    }
   ],
   "execution_count": 19
  },
  {
   "metadata": {
    "ExecuteTime": {
     "end_time": "2024-11-01T03:56:42.332961Z",
     "start_time": "2024-11-01T03:56:42.323270Z"
    }
   },
   "cell_type": "code",
   "source": [
    "pos = 'RW'\n",
    "roster_dict[pos]"
   ],
   "id": "33d72c9de1f726b4",
   "outputs": [
    {
     "data": {
      "text/plain": [
       "'riyad mahrez'"
      ]
     },
     "execution_count": 21,
     "metadata": {},
     "output_type": "execute_result"
    }
   ],
   "execution_count": 21
  },
  {
   "metadata": {
    "ExecuteTime": {
     "end_time": "2024-11-01T03:58:18.902661Z",
     "start_time": "2024-11-01T03:58:18.889468Z"
    }
   },
   "cell_type": "code",
   "source": [
    "#Unpacking\n",
    "cb, dm = ['ruben dias', 'fernandinho']"
   ],
   "id": "d8d9f897e2b9bf74",
   "outputs": [],
   "execution_count": 24
  },
  {
   "metadata": {
    "ExecuteTime": {
     "end_time": "2024-11-01T05:50:27.658383Z",
     "start_time": "2024-11-01T05:50:27.633141Z"
    }
   },
   "cell_type": "code",
   "source": [
    "roster_list_upper = ['','','']\n",
    "i = 0\n",
    "for player in roster_list:\n",
    "    roster_list_upper[i] = player.title()\n",
    "    i+=1\n",
    "\n",
    "roster_list_upper"
   ],
   "id": "d12717820c890567",
   "outputs": [
    {
     "data": {
      "text/plain": [
       "['Ruben Dias', 'Gabriel Jesus', 'Riyad Mahrez']"
      ]
     },
     "execution_count": 25,
     "metadata": {},
     "output_type": "execute_result"
    }
   ],
   "execution_count": 25
  },
  {
   "metadata": {
    "ExecuteTime": {
     "end_time": "2024-11-01T05:53:07.618389Z",
     "start_time": "2024-11-01T05:53:07.606165Z"
    }
   },
   "cell_type": "code",
   "source": [
    "for x in roster_dict:\n",
    "    print(f\"position: {x}\")"
   ],
   "id": "f4d7d6cf0c670f92",
   "outputs": [
    {
     "name": "stdout",
     "output_type": "stream",
     "text": [
      "position: CB\n",
      "position: CF\n",
      "position: RW\n",
      "position: LW\n"
     ]
    }
   ],
   "execution_count": 26
  },
  {
   "metadata": {
    "ExecuteTime": {
     "end_time": "2024-11-01T05:54:07.095899Z",
     "start_time": "2024-11-01T05:54:07.087681Z"
    }
   },
   "cell_type": "code",
   "source": [
    "for x in roster_dict:\n",
    "    print(f\"position: {x}\")\n",
    "    print(f\"player: {roster_dict[x].title()}\")"
   ],
   "id": "62387a0b5419fe35",
   "outputs": [
    {
     "name": "stdout",
     "output_type": "stream",
     "text": [
      "position: CB\n",
      "player: Ruben Dias\n",
      "position: CF\n",
      "player: Gabriel Jesus\n",
      "position: RW\n",
      "player: Riyad Mahrez\n",
      "position: LW\n",
      "player: Raheem Sterling\n"
     ]
    }
   ],
   "execution_count": 28
  },
  {
   "metadata": {
    "ExecuteTime": {
     "end_time": "2024-11-01T05:55:46.588950Z",
     "start_time": "2024-11-01T05:55:46.578383Z"
    }
   },
   "cell_type": "code",
   "source": [
    "for x,y in roster_dict.items():\n",
    "    print(f\"position: {x}\")\n",
    "    print(f\"player: {y.title()}\")"
   ],
   "id": "417f538eeedfb617",
   "outputs": [
    {
     "name": "stdout",
     "output_type": "stream",
     "text": [
      "position: CB\n",
      "player: Ruben Dias\n",
      "position: CF\n",
      "player: Gabriel Jesus\n",
      "position: RW\n",
      "player: Riyad Mahrez\n",
      "position: LW\n",
      "player: Raheem Sterling\n"
     ]
    }
   ],
   "execution_count": 30
  },
  {
   "metadata": {
    "ExecuteTime": {
     "end_time": "2024-11-01T10:28:16.249556Z",
     "start_time": "2024-11-01T10:28:16.237652Z"
    }
   },
   "cell_type": "code",
   "source": " roster_list_proper = [x.title() for x in roster_list]",
   "id": "280a298fd0a38b90",
   "outputs": [],
   "execution_count": 31
  },
  {
   "metadata": {
    "ExecuteTime": {
     "end_time": "2024-11-01T10:28:23.299272Z",
     "start_time": "2024-11-01T10:28:23.288506Z"
    }
   },
   "cell_type": "code",
   "source": "roster_list_proper",
   "id": "2b3bbb6f45fcb2c4",
   "outputs": [
    {
     "data": {
      "text/plain": [
       "['Ruben Dias', 'Gabriel Jesus', 'Riyad Mahrez']"
      ]
     },
     "execution_count": 32,
     "metadata": {},
     "output_type": "execute_result"
    }
   ],
   "execution_count": 32
  },
  {
   "metadata": {
    "ExecuteTime": {
     "end_time": "2024-11-01T10:28:51.581689Z",
     "start_time": "2024-11-01T10:28:51.575916Z"
    }
   },
   "cell_type": "code",
   "source": "roster_list_proper_alt = [y.title() for y in roster_list]",
   "id": "d0fff14440ffc6db",
   "outputs": [],
   "execution_count": 33
  },
  {
   "metadata": {
    "ExecuteTime": {
     "end_time": "2024-11-01T10:28:58.801774Z",
     "start_time": "2024-11-01T10:28:58.789133Z"
    }
   },
   "cell_type": "code",
   "source": "roster_list_proper_alt",
   "id": "dc2a2246e7e582dc",
   "outputs": [
    {
     "data": {
      "text/plain": [
       "['Ruben Dias', 'Gabriel Jesus', 'Riyad Mahrez']"
      ]
     },
     "execution_count": 34,
     "metadata": {},
     "output_type": "execute_result"
    }
   ],
   "execution_count": 34
  },
  {
   "metadata": {
    "ExecuteTime": {
     "end_time": "2024-11-01T13:35:18.411459Z",
     "start_time": "2024-11-01T13:35:18.397125Z"
    }
   },
   "cell_type": "code",
   "source": "type([x.title() for x in roster_list])",
   "id": "e39a5bab4e33b1bd",
   "outputs": [
    {
     "data": {
      "text/plain": [
       "list"
      ]
     },
     "execution_count": 35,
     "metadata": {},
     "output_type": "execute_result"
    }
   ],
   "execution_count": 35
  },
  {
   "metadata": {
    "ExecuteTime": {
     "end_time": "2024-11-01T14:11:35.697466Z",
     "start_time": "2024-11-01T14:11:35.683796Z"
    }
   },
   "cell_type": "code",
   "source": "[x.title() for x in roster_list][:2]",
   "id": "cabc575de3feff3a",
   "outputs": [
    {
     "data": {
      "text/plain": [
       "['Ruben Dias', 'Gabriel Jesus']"
      ]
     },
     "execution_count": 36,
     "metadata": {},
     "output_type": "execute_result"
    }
   ],
   "execution_count": 36
  },
  {
   "metadata": {
    "ExecuteTime": {
     "end_time": "2024-11-01T14:14:14.414481Z",
     "start_time": "2024-11-01T14:14:14.399958Z"
    }
   },
   "cell_type": "code",
   "source": [
    "roster_list.append('Jude Bellingham')\n",
    "roster_list.append('Diogo Jota')\n",
    "roster_list.append('Mohammed Salah')"
   ],
   "id": "f32bdb608623f02a",
   "outputs": [],
   "execution_count": 38
  },
  {
   "metadata": {
    "ExecuteTime": {
     "end_time": "2024-11-01T14:14:29.011060Z",
     "start_time": "2024-11-01T14:14:29.000993Z"
    }
   },
   "cell_type": "code",
   "source": "roster_list",
   "id": "2e979186c065fc96",
   "outputs": [
    {
     "data": {
      "text/plain": [
       "['ruben dias',\n",
       " 'gabriel jesus',\n",
       " 'riyad mahrez',\n",
       " 'Jude Bellingham',\n",
       " 'Diogo Jota',\n",
       " 'Mohammed Salah']"
      ]
     },
     "execution_count": 39,
     "metadata": {},
     "output_type": "execute_result"
    }
   ],
   "execution_count": 39
  },
  {
   "metadata": {
    "ExecuteTime": {
     "end_time": "2024-11-01T14:15:04.769897Z",
     "start_time": "2024-11-01T14:15:04.761661Z"
    }
   },
   "cell_type": "code",
   "source": "roster_list_title = [x.title() for x in roster_list]",
   "id": "dfc81d056d7e13a0",
   "outputs": [],
   "execution_count": 40
  },
  {
   "metadata": {
    "ExecuteTime": {
     "end_time": "2024-11-01T14:15:11.235351Z",
     "start_time": "2024-11-01T14:15:11.221334Z"
    }
   },
   "cell_type": "code",
   "source": "roster_list_title",
   "id": "4a5e5ab41e62e714",
   "outputs": [
    {
     "data": {
      "text/plain": [
       "['Ruben Dias',\n",
       " 'Gabriel Jesus',\n",
       " 'Riyad Mahrez',\n",
       " 'Jude Bellingham',\n",
       " 'Diogo Jota',\n",
       " 'Mohammed Salah']"
      ]
     },
     "execution_count": 41,
     "metadata": {},
     "output_type": "execute_result"
    }
   ],
   "execution_count": 41
  },
  {
   "metadata": {
    "ExecuteTime": {
     "end_time": "2024-11-01T14:20:24.234881Z",
     "start_time": "2024-11-01T14:20:24.222866Z"
    }
   },
   "cell_type": "code",
   "source": [
    "roster_last_name = [full_name.split(' ')[1] for full_name in roster_list]\n",
    "roster_last_name"
   ],
   "id": "6a54135d389243f1",
   "outputs": [
    {
     "data": {
      "text/plain": [
       "['dias', 'jesus', 'mahrez', 'Bellingham', 'Jota', 'Salah']"
      ]
     },
     "execution_count": 43,
     "metadata": {},
     "output_type": "execute_result"
    }
   ],
   "execution_count": 43
  },
  {
   "metadata": {
    "ExecuteTime": {
     "end_time": "2024-11-01T14:29:56.976862Z",
     "start_time": "2024-11-01T14:29:56.961654Z"
    }
   },
   "cell_type": "code",
   "source": [
    "full_name = 'Ruben Dias'\n",
    "full_name.split(' ')\n",
    "full_name.split(' ')[1]"
   ],
   "id": "d128e3c990711437",
   "outputs": [
    {
     "data": {
      "text/plain": [
       "'Dias'"
      ]
     },
     "execution_count": 45,
     "metadata": {},
     "output_type": "execute_result"
    }
   ],
   "execution_count": 45
  },
  {
   "metadata": {
    "ExecuteTime": {
     "end_time": "2024-11-01T14:34:55.245681Z",
     "start_time": "2024-11-01T14:34:55.233315Z"
    }
   },
   "cell_type": "code",
   "source": [
    "roster_r_only = [x.title() for x in roster_list if x.startswith('r')]\n",
    "roster_r_only"
   ],
   "id": "604f40208d0b21fb",
   "outputs": [
    {
     "data": {
      "text/plain": [
       "['Ruben Dias', 'Riyad Mahrez']"
      ]
     },
     "execution_count": 47,
     "metadata": {},
     "output_type": "execute_result"
    }
   ],
   "execution_count": 47
  },
  {
   "metadata": {
    "ExecuteTime": {
     "end_time": "2024-11-01T14:47:51.867361Z",
     "start_time": "2024-11-01T14:47:51.858166Z"
    }
   },
   "cell_type": "code",
   "source": [
    "salary_per_player = {\n",
    "    'Ruben Dias': 600000,\n",
    "    'Gabriel Jesus': 468000,\n",
    "    'Riyad Mahrez': 624000,\n",
    "    'Diogo Jota': 150000,\n",
    "    'Mohammed Salah':500000\n",
    "}\n",
    "\n",
    "salary_m_per_upper_player = {\n",
    "    name.upper(): salary/100000 for name,salary in salary_per_player.items()\n",
    "}\n",
    "\n",
    "salary_m_per_upper_player"
   ],
   "id": "6cf8eb44bafede40",
   "outputs": [
    {
     "data": {
      "text/plain": [
       "{'RUBEN DIAS': 6.0,\n",
       " 'GABRIEL JESUS': 4.68,\n",
       " 'RIYAD MAHREZ': 6.24,\n",
       " 'DIOGO JOTA': 1.5,\n",
       " 'MOHAMMED SALAH': 5.0}"
      ]
     },
     "execution_count": 48,
     "metadata": {},
     "output_type": "execute_result"
    }
   ],
   "execution_count": 48
  },
  {
   "metadata": {
    "ExecuteTime": {
     "end_time": "2024-11-01T14:48:10.473768Z",
     "start_time": "2024-11-01T14:48:10.460785Z"
    }
   },
   "cell_type": "code",
   "source": "sum([1,2,3])",
   "id": "e5c160c057887398",
   "outputs": [
    {
     "data": {
      "text/plain": [
       "6"
      ]
     },
     "execution_count": 49,
     "metadata": {},
     "output_type": "execute_result"
    }
   ],
   "execution_count": 49
  },
  {
   "metadata": {
    "ExecuteTime": {
     "end_time": "2024-11-01T14:53:52.841933Z",
     "start_time": "2024-11-01T14:53:52.829047Z"
    }
   },
   "cell_type": "code",
   "source": "sum([salary for _, salary in salary_per_player.items()])",
   "id": "d390d697b6df12f6",
   "outputs": [
    {
     "data": {
      "text/plain": [
       "2342000"
      ]
     },
     "execution_count": 50,
     "metadata": {},
     "output_type": "execute_result"
    }
   ],
   "execution_count": 50
  },
  {
   "metadata": {
    "ExecuteTime": {
     "end_time": "2024-11-01T15:03:13.653327Z",
     "start_time": "2024-11-01T15:03:13.641734Z"
    }
   },
   "cell_type": "code",
   "source": "len(roster_list)",
   "id": "fec4ec755b80bd5d",
   "outputs": [
    {
     "data": {
      "text/plain": [
       "6"
      ]
     },
     "execution_count": 51,
     "metadata": {},
     "output_type": "execute_result"
    }
   ],
   "execution_count": 51
  },
  {
   "metadata": {
    "ExecuteTime": {
     "end_time": "2024-11-01T15:07:41.427891Z",
     "start_time": "2024-11-01T15:07:41.418040Z"
    }
   },
   "cell_type": "code",
   "source": [
    "def ejected(nyellow, nred):\n",
    "    return (nred >= 1) or (nyellow >= 2)\n",
    "\n",
    "ejected(1,0)"
   ],
   "id": "d3aede351f29ceb1",
   "outputs": [
    {
     "data": {
      "text/plain": [
       "False"
      ]
     },
     "execution_count": 53,
     "metadata": {},
     "output_type": "execute_result"
    }
   ],
   "execution_count": 53
  },
  {
   "metadata": {
    "ExecuteTime": {
     "end_time": "2024-11-01T15:12:48.755114Z",
     "start_time": "2024-11-01T15:12:48.744028Z"
    }
   },
   "cell_type": "code",
   "source": [
    "def ejected_noisy(yellow, red):\n",
    "    print(yellow)\n",
    "    return (red >= 1) or (yellow >=2)"
   ],
   "id": "f85bc43ca796a621",
   "outputs": [],
   "execution_count": 54
  },
  {
   "metadata": {
    "ExecuteTime": {
     "end_time": "2024-11-01T15:12:59.339091Z",
     "start_time": "2024-11-01T15:12:59.330489Z"
    }
   },
   "cell_type": "code",
   "source": "ejected_noisy(0,1)",
   "id": "adf79acf0f384ff8",
   "outputs": [
    {
     "name": "stdout",
     "output_type": "stream",
     "text": [
      "0\n"
     ]
    },
    {
     "data": {
      "text/plain": [
       "True"
      ]
     },
     "execution_count": 55,
     "metadata": {},
     "output_type": "execute_result"
    }
   ],
   "execution_count": 55
  },
  {
   "metadata": {
    "ExecuteTime": {
     "end_time": "2024-11-01T15:14:16.851153Z",
     "start_time": "2024-11-01T15:14:16.838629Z"
    }
   },
   "cell_type": "code",
   "source": [
    "def ejected_wdefault(yellow, red=0):\n",
    "    return (red >= 1) or (yellow >=2)\n",
    "ejected_wdefault(0)"
   ],
   "id": "940c90dbfefc2067",
   "outputs": [
    {
     "data": {
      "text/plain": [
       "False"
      ]
     },
     "execution_count": 56,
     "metadata": {},
     "output_type": "execute_result"
    }
   ],
   "execution_count": 56
  },
  {
   "metadata": {
    "ExecuteTime": {
     "end_time": "2024-11-01T15:15:04.708010Z",
     "start_time": "2024-11-01T15:15:04.697294Z"
    }
   },
   "cell_type": "code",
   "source": "ejected_wdefault?",
   "id": "d838c6a41e91b4a5",
   "outputs": [],
   "execution_count": 57
  },
  {
   "metadata": {
    "ExecuteTime": {
     "end_time": "2024-11-01T15:22:57.662028Z",
     "start_time": "2024-11-01T15:22:57.647869Z"
    }
   },
   "cell_type": "code",
   "source": [
    "#Python can also take functions as arguments\n",
    "#Is this true for other languages? I haven't brushed up on my java in so long\n",
    "\n",
    "def do_to_list(working_list, working_fun, desc):\n",
    "    value = working_fun(working_list)\n",
    "    return f\"{value} has {desc}\"\n",
    "\n",
    "def last_element_in_list(working_list):\n",
    "    return working_list[-1]\n",
    "\n",
    "positions = ['FWD', 'MID', 'D', 'GK']\n",
    "do_to_list(positions, last_element_in_list, 'is the most important position')\n",
    "\n",
    "numbers = [1,2,3,4]\n",
    "do_to_list(numbers, len, 'Length of your list')"
   ],
   "id": "35ede234e14c0545",
   "outputs": [
    {
     "data": {
      "text/plain": [
       "'4 has Length of your list'"
      ]
     },
     "execution_count": 59,
     "metadata": {},
     "output_type": "execute_result"
    }
   ],
   "execution_count": 59
  },
  {
   "metadata": {
    "ExecuteTime": {
     "end_time": "2024-11-01T15:24:55.405574Z",
     "start_time": "2024-11-01T15:24:55.394165Z"
    }
   },
   "cell_type": "code",
   "source": [
    "#Anonymous or lambda functions\n",
    "do_to_list([2,3,7, 1.3, 5], lambda x: 3*x[0], \"First element of your list times 3 is : \")\n",
    "#Need to do some more research on lambdas"
   ],
   "id": "371971ad2c28a47c",
   "outputs": [
    {
     "data": {
      "text/plain": [
       "'6 has First element of your list times 3 is : '"
      ]
     },
     "execution_count": 61,
     "metadata": {},
     "output_type": "execute_result"
    }
   ],
   "execution_count": 61
  },
  {
   "metadata": {
    "ExecuteTime": {
     "end_time": "2024-11-01T15:25:17.472046Z",
     "start_time": "2024-11-01T15:25:17.463155Z"
    }
   },
   "cell_type": "code",
   "source": [
    "#Libraries are functions and types\n",
    "import os\n",
    "os.cpu_count()"
   ],
   "id": "2e960d56430b538f",
   "outputs": [
    {
     "data": {
      "text/plain": [
       "4"
      ]
     },
     "execution_count": 62,
     "metadata": {},
     "output_type": "execute_result"
    }
   ],
   "execution_count": 62
  },
  {
   "metadata": {
    "ExecuteTime": {
     "end_time": "2024-11-01T19:15:05.175467Z",
     "start_time": "2024-11-01T19:15:05.159300Z"
    }
   },
   "cell_type": "code",
   "source": [
    "from os import path\n",
    "DATA_DIR = '/home/amith/Codebase/code-soccer-files-main/data'\n",
    "path.join(DATA_DIR, 'shots.csv')"
   ],
   "id": "f8278141f44f93c9",
   "outputs": [
    {
     "data": {
      "text/plain": [
       "'/home/amith/Codebase/code-soccer-files-main/data/shots.csv'"
      ]
     },
     "execution_count": 63,
     "metadata": {},
     "output_type": "execute_result"
    }
   ],
   "execution_count": 63
  },
  {
   "metadata": {
    "ExecuteTime": {
     "end_time": "2024-11-01T19:16:17.255205Z",
     "start_time": "2024-11-01T19:16:17.250391Z"
    }
   },
   "cell_type": "code",
   "source": [
    "def commentary(player, stat):\n",
    "    return f'{player} with the {stat}'"
   ],
   "id": "5f118ea3d0d0176c",
   "outputs": [],
   "execution_count": 64
  },
  {
   "metadata": {
    "ExecuteTime": {
     "end_time": "2024-11-01T19:16:30.817096Z",
     "start_time": "2024-11-01T19:16:30.807030Z"
    }
   },
   "cell_type": "code",
   "source": "commentary('Messi', 'goal')",
   "id": "16edcf34882301d",
   "outputs": [
    {
     "data": {
      "text/plain": [
       "'Messi with the goal'"
      ]
     },
     "execution_count": 65,
     "metadata": {},
     "output_type": "execute_result"
    }
   ],
   "execution_count": 65
  },
  {
   "metadata": {
    "ExecuteTime": {
     "end_time": "2024-11-01T19:19:28.028903Z",
     "start_time": "2024-11-01T19:19:28.021416Z"
    }
   },
   "cell_type": "code",
   "source": [
    "def is_oconnell(player):\n",
    "    player = player.lower()\n",
    "    return player == \"jack o'connell\" or player == \"jack oconnell\"\n",
    "\n",
    "print(is_oconnell(\"John O'Connell\"))\n",
    "print(is_oconnell(\"Jack O'Connell\"))\n",
    "print(is_oconnell(\"Jack OConnell\"))"
   ],
   "id": "2f60edd45afa2e9f",
   "outputs": [
    {
     "name": "stdout",
     "output_type": "stream",
     "text": [
      "False\n",
      "True\n",
      "True\n"
     ]
    }
   ],
   "execution_count": 67
  },
  {
   "metadata": {
    "ExecuteTime": {
     "end_time": "2024-11-01T19:20:50.759114Z",
     "start_time": "2024-11-01T19:20:50.746681Z"
    }
   },
   "cell_type": "code",
   "source": [
    "def a_lot_of_goals(goals):\n",
    "    if goals >= 4:\n",
    "        return f\"{goals} is a lot of goals\"\n",
    "    else:\n",
    "        return f\"{goals} is not that many goals\"\n",
    "a_lot_of_goals(6)"
   ],
   "id": "a780869ee2cfc0e6",
   "outputs": [
    {
     "data": {
      "text/plain": [
       "'6 is a lot of goals'"
      ]
     },
     "execution_count": 68,
     "metadata": {},
     "output_type": "execute_result"
    }
   ],
   "execution_count": 68
  },
  {
   "metadata": {
    "ExecuteTime": {
     "end_time": "2024-11-01T19:23:30.260019Z",
     "start_time": "2024-11-01T19:23:30.245549Z"
    }
   },
   "cell_type": "code",
   "source": [
    "roster = ['ruben dias', 'gabriel jesus', 'riyad mahrez']\n",
    "#List three ways you can print the list without riyad mahrez\n",
    "print(roster[0:2])\n",
    "roster_wr = [x for x in roster if x.startswith('riyad')==False]\n",
    "roster_wr"
   ],
   "id": "566b63db8791ca85",
   "outputs": [
    {
     "name": "stdout",
     "output_type": "stream",
     "text": [
      "['ruben dias', 'gabriel jesus']\n"
     ]
    },
    {
     "data": {
      "text/plain": [
       "['ruben dias', 'gabriel jesus']"
      ]
     },
     "execution_count": 69,
     "metadata": {},
     "output_type": "execute_result"
    }
   ],
   "execution_count": 69
  },
  {
   "metadata": {
    "ExecuteTime": {
     "end_time": "2024-11-01T19:28:00.142648Z",
     "start_time": "2024-11-01T19:28:00.134636Z"
    }
   },
   "cell_type": "code",
   "source": [
    "shot_info = {'shooter': 'Robert Lewandowski', 'foot':'right', 'went_in':False}\n",
    "shot_info['shooter'] = 'Cristiano Ronaldo'\n",
    "def toggle_foot(shot_dict):\n",
    "    if shot_dict['foot'].lower() == 'right':\n",
    "        shot_dict['foot'] = 'left'\n",
    "    else:\n",
    "        shot_dict['foot'] = 'right'\n",
    "toggle_foot(shot_info)\n",
    "shot_info"
   ],
   "id": "c6d2e2ea71439acc",
   "outputs": [
    {
     "data": {
      "text/plain": [
       "{'shooter': 'Cristiano Ronaldo', 'foot': 'left', 'went_in': False}"
      ]
     },
     "execution_count": 70,
     "metadata": {},
     "output_type": "execute_result"
    }
   ],
   "execution_count": 70
  },
  {
   "metadata": {
    "ExecuteTime": {
     "end_time": "2024-11-01T19:29:55.526117Z",
     "start_time": "2024-11-01T19:29:55.517518Z"
    }
   },
   "cell_type": "code",
   "source": [
    "def lastname(roster):\n",
    "    last_name = []\n",
    "    for x in roster:\n",
    "        last = x.split(' ')[1]\n",
    "        last_name.append(last)\n",
    "    return last_name\n",
    "\n",
    "lastname(roster)\n",
    "        "
   ],
   "id": "98b6ed59c39768fd",
   "outputs": [
    {
     "data": {
      "text/plain": [
       "['dias', 'jesus', 'mahrez']"
      ]
     },
     "execution_count": 71,
     "metadata": {},
     "output_type": "execute_result"
    }
   ],
   "execution_count": 71
  },
  {
   "metadata": {
    "ExecuteTime": {
     "end_time": "2024-11-01T19:33:02.978354Z",
     "start_time": "2024-11-01T19:33:02.971987Z"
    }
   },
   "cell_type": "code",
   "source": "roster_dict = {x:len(x) for x in roster}",
   "id": "300d1748429a1a9c",
   "outputs": [],
   "execution_count": 72
  },
  {
   "metadata": {
    "ExecuteTime": {
     "end_time": "2024-11-01T19:33:07.374186Z",
     "start_time": "2024-11-01T19:33:07.363320Z"
    }
   },
   "cell_type": "code",
   "source": "roster_dict",
   "id": "2180238356670310",
   "outputs": [
    {
     "data": {
      "text/plain": [
       "{'ruben dias': 10, 'gabriel jesus': 13, 'riyad mahrez': 12}"
      ]
     },
     "execution_count": 73,
     "metadata": {},
     "output_type": "execute_result"
    }
   ],
   "execution_count": 73
  },
  {
   "metadata": {
    "ExecuteTime": {
     "end_time": "2024-11-01T19:36:38.031526Z",
     "start_time": "2024-11-01T19:36:38.017836Z"
    }
   },
   "cell_type": "code",
   "source": [
    "roster_dict = {'CB':'Ruben Dias', 'CF':'Gabriel Jesus', 'RF':'Riyad Mahrez', 'LW':'Raheem Sterling'}\n",
    "roster_list = [x for x in roster_dict]\n",
    "roster_list"
   ],
   "id": "e246da01f80e2a81",
   "outputs": [
    {
     "data": {
      "text/plain": [
       "['CB', 'CF', 'RF', 'LW']"
      ]
     },
     "execution_count": 74,
     "metadata": {},
     "output_type": "execute_result"
    }
   ],
   "execution_count": 74
  },
  {
   "metadata": {
    "ExecuteTime": {
     "end_time": "2024-11-01T19:41:09.543043Z",
     "start_time": "2024-11-01T19:41:09.531713Z"
    }
   },
   "cell_type": "code",
   "source": [
    "roster_last_names = [y for x, y in roster_dict.items() if y.split(' ')[1].lower().startswith('j') or y.split(' ')[1].lower().startswith('m')]\n",
    "roster_last_names"
   ],
   "id": "4d0b4251b9953327",
   "outputs": [
    {
     "data": {
      "text/plain": [
       "['Gabriel Jesus', 'Riyad Mahrez']"
      ]
     },
     "execution_count": 79,
     "metadata": {},
     "output_type": "execute_result"
    }
   ],
   "execution_count": 79
  },
  {
   "metadata": {
    "ExecuteTime": {
     "end_time": "2024-11-01T19:50:05.586314Z",
     "start_time": "2024-11-01T19:50:05.576085Z"
    }
   },
   "cell_type": "code",
   "source": [
    "def mapper(roster, roster_func):\n",
    "    items = []\n",
    "    for x in roster:\n",
    "        value = roster_func(x)\n",
    "        items.append(value)\n",
    "    return items\n",
    "\n",
    "match_minutes = [95, 92, 90, 91, 97, 95]\n",
    "print(mapper(match_minutes, lambda x:x-90))"
   ],
   "id": "813c389c12960570",
   "outputs": [
    {
     "name": "stdout",
     "output_type": "stream",
     "text": [
      "[5, 2, 0, 1, 7, 5]\n"
     ]
    }
   ],
   "execution_count": 83
  },
  {
   "metadata": {},
   "cell_type": "code",
   "outputs": [],
   "execution_count": null,
   "source": "",
   "id": "cb9e72a71e6d8bd2"
  }
 ],
 "metadata": {
  "kernelspec": {
   "display_name": "Python 3",
   "language": "python",
   "name": "python3"
  },
  "language_info": {
   "codemirror_mode": {
    "name": "ipython",
    "version": 2
   },
   "file_extension": ".py",
   "mimetype": "text/x-python",
   "name": "python",
   "nbconvert_exporter": "python",
   "pygments_lexer": "ipython2",
   "version": "2.7.6"
  }
 },
 "nbformat": 4,
 "nbformat_minor": 5
}
